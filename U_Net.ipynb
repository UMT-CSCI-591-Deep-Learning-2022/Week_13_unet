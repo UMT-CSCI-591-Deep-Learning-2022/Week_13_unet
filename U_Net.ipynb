{
 "cells": [
  {
   "cell_type": "markdown",
   "id": "3899ee5d",
   "metadata": {
    "id": "3899ee5d"
   },
   "source": [
    "# Week 12: U-Net\n",
    "## Convolutional Networks for Image Segmentation\n",
    "\n",
    "Olaf Ronneberger, Philipp Fischer, and Thomas Brox\n",
    "2015\n",
    "\n",
    "U-Net is a segmentation network whose architecture resembles the letter \"u\". The network \"contracts to capture context and a symmetric expanding path that enables precise localization\" (Ronnenberger et al. 2015).\n",
    "\n",
    "![unet.PNG](unet.PNG)\n",
    "\n",
    "The example provided here will use a dataset of images we chose to use is labeled to classify cars. There are two labels in these images ('car' and 'not car'). \n"
   ]
  },
  {
   "cell_type": "markdown",
   "id": "ae7b9e01",
   "metadata": {
    "id": "ae7b9e01"
   },
   "source": [
    "## Weighted Mask\n",
    "\n",
    "The use of the standard categorical cross-entropy loss function in U-net can be problematic for biomedical image segmentation:  \n",
    "* When using this loss function, the model is rewarded for classifying narrow cell boundaries as being in-cell pixels because they are close to many other in-cell pixels  \n",
    "* While this might not reduce the overall accuracy much, it reduces the usefulness of the segmentation result  \n",
    "* To mitigate this problem, the implementation from the paper includes a weight map that is used to add a weight value to the loss function.  \n",
    "\n",
    "This weight map is calculated as follows:\n",
    "\n",
    "$$\\Large\n",
    "w(x) = w_c(x) + w_0\\ \\cdot\\ exp\\ (-\\ \\frac{(d_1(x) + d_2(x))^2}{2 \\sigma^2})\n",
    "$$\n",
    "\n",
    "$$\\small  \n",
    "x\\ is\\ the\\ current\\ pixel \\\\  \n",
    "w_c\\ is\\ the\\ class\\ weighting\\ that\\ upweights\\ classes\\ differently \\\\  \n",
    "d_1\\ is\\ the\\ distance\\ to\\ the\\ nearest\\ cell\\ boundary \\\\  \n",
    "d_2\\ is\\ the\\ distance\\ to\\ the\\ second\\ nearest\\ cell\\ boundary \\\\  \n",
    "w_0\\ and\\ \\sigma\\ are\\ constants\\ that\\ scale\\ the\\ weighting $$  \n",
    "  \n",
    "### Example:  \n",
    "Let's implement this in code. First we need to develop a function that can generate random cells to simulate a microscopy image:\n"
   ]
  },
  {
   "cell_type": "code",
   "execution_count": 1,
   "id": "d507ae0f",
   "metadata": {
    "id": "d507ae0f"
   },
   "outputs": [],
   "source": [
    "# from skimage.io import imshow\n",
    "from skimage.measure import label\n",
    "from scipy.ndimage.morphology import distance_transform_edt\n",
    "from copy import deepcopy\n",
    "import numpy as np\n",
    "import matplotlib.pyplot as plt\n",
    "import os\n",
    "\n",
    "def generate_random_circles(n = 50, d = 100, cell_size = 20):\n",
    "\n",
    "  \"\"\"\n",
    "  Generate a numpy array that is a simulated mask for an image of \n",
    "  cells where the in-cell pixels are 1 and background pixels are 0. \n",
    "  Used as prelimiary generator for unet_weight_map function.\n",
    "\n",
    "  Parameters\n",
    "  ----------\n",
    "  n:  int\n",
    "      Number of cells to be created\n",
    "  d:  int\n",
    "      Dictionary of weight classes.\n",
    "  Returns\n",
    "  -------\n",
    "  Numpy array\n",
    "      Simulated mask for a cell-image. A 2D array of shape (d,d).\n",
    "  \"\"\"\n",
    "  # Generate coordinates for random circles\n",
    "  circles = np.random.randint(0, d, (n, 3))\n",
    "  # Ensure radius (3rd col) is between d/3 and d\n",
    "  circles[:,2] = np.interp(circles[:,2], (circles[:,2].max(), circles[:,2].max()), (d/3,d))\n",
    "\n",
    "  # Generate background for simluated cell image \n",
    "  x = np.zeros((d, d), dtype=int)\n",
    "  \n",
    "  # Iterate over circles and insert into simulated image\n",
    "  for x0, y0, r in circles:\n",
    "    copy_x = deepcopy(x)\n",
    "    # Generate new 2D array with circle of pixels with value 1 for current circle\n",
    "    new_x = np.fromfunction(lambda x, y: ((x - x0)**2 + (y - y0)**2) <= (r/d*cell_size)**2, x.shape)\n",
    "    \n",
    "    # Add new circle to cell map\n",
    "    for i in range(1,len(new_x)-1):\n",
    "      for j in range(1,len(new_x[0])-1):\n",
    "        # Only add to cell map if neighbours are 0\n",
    "        if new_x[i][j] == True and x[i-1][j]==0 and x[i-1][j-1]==0 and x[i][j-1]==0 and x[i][j+1]==0 and x[i+1][j+1]==0 and x[i+1][j]==0 and x[i+1][j-1]==0 and x[i-1][j+1]==0:\n",
    "          copy_x[i][j] += new_x[i][j]\n",
    "    x += copy_x\n",
    "  \n",
    "  # Clip values above 1 to a max of 1\n",
    "  x = np.clip(x, 0, 1)\n",
    "\n",
    "  # Return simulated cell map\n",
    "  return x"
   ]
  },
  {
   "cell_type": "markdown",
   "id": "8fa24245",
   "metadata": {
    "id": "8fa24245"
   },
   "source": [
    "Second we need to implement the weighting function that weights each pixel in the image based on it's distance to the nearest cell boundaries:"
   ]
  },
  {
   "cell_type": "code",
   "execution_count": 2,
   "id": "ad58a0ae",
   "metadata": {
    "id": "ad58a0ae"
   },
   "outputs": [],
   "source": [
    "\n",
    "def unet_weight_map(y, wc=None, w0 = 10, sigma = 5):\n",
    "\n",
    "  \"\"\"\n",
    "  Generate weight maps as specified in the U-Net paper\n",
    "  for boolean mask.\n",
    "  \n",
    "  \"U-Net: Convolutional Networks for Biomedical Image Segmentation\"\n",
    "  https://arxiv.org/pdf/1505.04597.pdf\n",
    "  \n",
    "  Parameters\n",
    "  ----------\n",
    "  mask: Numpy array\n",
    "      2D array of shape (image_height, image_width) representing binary mask\n",
    "      of objects.\n",
    "  wc: dict\n",
    "      Dictionary of weight classes.\n",
    "  w0: int\n",
    "      Border weight parameter.\n",
    "  sigma: int\n",
    "      Border width parameter.\n",
    "  Returns\n",
    "  -------\n",
    "  Numpy array\n",
    "      Training weights. A 2D array of shape (image_height, image_width).\n",
    "  \"\"\"\n",
    "  \n",
    "  # Grab labels from input\n",
    "  labels = label(y)\n",
    "  no_labels = labels == 0\n",
    "  label_ids = sorted(np.unique(labels))[1:]\n",
    "\n",
    "  # Check for circles in y\n",
    "  if len(label_ids) > 1:\n",
    "    # Calculate distances\n",
    "    distances = np.zeros((y.shape[0], y.shape[1], len(label_ids)))\n",
    "    for i, label_id in enumerate(label_ids):\n",
    "      distances[:,:,i] = distance_transform_edt(labels != label_id)\n",
    "\n",
    "    # Sort for nearest cell boundary distances\n",
    "    distances = np.sort(distances, axis=2)\n",
    "    d1 = distances[:,:,0]\n",
    "    d2 = distances[:,:,1]\n",
    "    \n",
    "    # Calculate second term in weighting equation\n",
    "    w = w0 * np.exp(-1/2*((d1 + d2) / sigma)**2) * no_labels\n",
    "\n",
    "    # Sum with class weights to produce weighted mask\n",
    "    if wc:\n",
    "      class_weights = np.zeros_like(y)\n",
    "      for k, v in wc.items():\n",
    "        class_weights[y == k] = v\n",
    "      w = w + class_weights\n",
    "  \n",
    "  # If no circles we passed in to the function, return zeros\n",
    "  else:\n",
    "    w = np.zeros_like(y)\n",
    "  \n",
    "  # Return weighted mask\n",
    "  return w\n"
   ]
  },
  {
   "cell_type": "markdown",
   "id": "2e1eb5b7",
   "metadata": {
    "id": "2e1eb5b7"
   },
   "source": [
    "Let's generate a simulated cell image mask and then weight the pixels of that mask. You need to choose weighting values for the two classes, cell and non-cell:"
   ]
  },
  {
   "cell_type": "code",
   "execution_count": 65,
   "id": "840b9424",
   "metadata": {
    "colab": {
     "base_uri": "https://localhost:8080/",
     "height": 563
    },
    "id": "840b9424",
    "outputId": "96486025-2d87-4abd-8669-b42bc0a683c6"
   },
   "outputs": [
    {
     "data": {
      "image/png": "[encoded data removed]",
      "text/plain": [
       "<Figure size 432x288 with 2 Axes>"
      ]
     },
     "metadata": {
      "needs_background": "light"
     },
     "output_type": "display_data"
    },
    {
     "name": "stdout",
     "output_type": "stream",
     "text": [
      "Class Weighting: {0: 1, 1: 10}\n"
     ]
    },
    {
     "data": {
      "image/png": "[encoded data removed]",
      "text/plain": [
       "<Figure size 432x288 with 2 Axes>"
      ]
     },
     "metadata": {
      "needs_background": "light"
     },
     "output_type": "display_data"
    }
   ],
   "source": [
    "# Generate simulated cell mask \n",
    "num_cells        = 60\n",
    "image_dimensions = 100\n",
    "cell_size        = 15\n",
    "y = generate_random_circles(num_cells, image_dimensions, cell_size)\n",
    "\n",
    "# Display cell mask\n",
    "plt.imshow(y)\n",
    "plt.title('Cell Image Mask')\n",
    "plt.colorbar()\n",
    "plt.show()\n",
    "\n",
    "# Weighting for pixels assigned to the two classes\n",
    "class_weighting = {\n",
    "  # TODO: Choose weighting values for the classes in the cell mask - they are currently set to 0.\n",
    "  0: 1, # background\n",
    "  1: 10,  # cells\n",
    "}\n",
    "\n",
    "print('Class Weighting:', class_weighting)\n",
    "\n",
    "# Generate weighted map\n",
    "w = unet_weight_map(y, class_weighting)\n",
    "\n",
    "# Display weighted mask\n",
    "plt.imshow(w)\n",
    "plt.title('Cell Image Weighted Mask')\n",
    "plt.colorbar()\n",
    "plt.show()"
   ]
  },
  {
   "cell_type": "markdown",
   "id": "4b835a1c",
   "metadata": {
    "id": "4b835a1c"
   },
   "source": [
    "**TO DO: Try adjusting the weighting of the class in the class_weighting dictionary (or other parameters) and see what impact that has on the final weighted mask.**\n",
    "\n",
    "# Implementing U-Net"
   ]
  },
  {
   "cell_type": "code",
   "execution_count": 4,
   "id": "d311a0bb",
   "metadata": {
    "id": "d311a0bb"
   },
   "outputs": [],
   "source": [
    "import torch\n",
    "import torch.nn as nn\n",
    "import torchvision.transforms as TF"
   ]
  },
  {
   "cell_type": "markdown",
   "id": "f3a3ce08",
   "metadata": {
    "id": "f3a3ce08"
   },
   "source": [
    "We use the double convolution quite a lot in this architecture so let's implement it as a reusable code block."
   ]
  },
  {
   "cell_type": "code",
   "execution_count": 5,
   "id": "054f2211",
   "metadata": {
    "id": "054f2211"
   },
   "outputs": [],
   "source": [
    "\n",
    "class DoubleConv(nn.Module):\n",
    "    def __init__(self, in_channels, out_channels):\n",
    "        super(DoubleConv, self).__init__()\n",
    "        self.conv = nn.Sequential(\n",
    "            nn.Conv2d(in_channels, out_channels, 3, 1, 1, bias=False),  # 3x3 convolution\n",
    "            nn.BatchNorm2d(out_channels),\n",
    "            nn.ReLU(inplace=True),\n",
    "            nn.Conv2d(out_channels, out_channels, 3, 1, 1, bias=False),\n",
    "            nn.BatchNorm2d(out_channels),\n",
    "            nn.ReLU(inplace=True),\n",
    "        )\n",
    "\n",
    "    def forward(self, x):\n",
    "        return self.conv(x)\n"
   ]
  },
  {
   "cell_type": "markdown",
   "id": "26a7636f",
   "metadata": {
    "id": "26a7636f"
   },
   "source": [
    "Now let's devise the network using Pytorch functionality."
   ]
  },
  {
   "cell_type": "code",
   "execution_count": 6,
   "id": "fced8572",
   "metadata": {
    "id": "fced8572"
   },
   "outputs": [],
   "source": [
    "\n",
    "class UNET(nn.Module):\n",
    "    def __init__(\n",
    "            self, in_channels=3, out_channels=1, features=[64, 128, 256, 512],\n",
    "    ):\n",
    "        super(UNET, self).__init__()\n",
    "        self.ups = nn.ModuleList()\n",
    "        self.downs = nn.ModuleList()\n",
    "        self.pool = nn.MaxPool2d(kernel_size=2, stride=2)\n",
    "\n",
    "        # Down part of UNET\n",
    "        for feature in features:\n",
    "            self.downs.append(DoubleConv(in_channels, feature))\n",
    "            in_channels = feature\n",
    "\n",
    "        # Up part of UNET\n",
    "        for feature in reversed(features):\n",
    "            self.ups.append(\n",
    "                nn.ConvTranspose2d(\n",
    "                    feature*2, feature, kernel_size=2, stride=2,\n",
    "                )\n",
    "            )\n",
    "            self.ups.append(DoubleConv(feature*2, feature))\n",
    "\n",
    "        self.bottleneck = DoubleConv(features[-1], features[-1]*2)\n",
    "        self.final_conv = nn.Conv2d(features[0], out_channels, kernel_size=1)\n",
    "\n",
    "    def forward(self, x):\n",
    "        skip_connections = []\n",
    "\n",
    "        for down in self.downs:\n",
    "            x = down(x)\n",
    "            skip_connections.append(x)\n",
    "            x = self.pool(x)\n",
    "\n",
    "        x = self.bottleneck(x)\n",
    "        skip_connections = skip_connections[::-1]\n",
    "\n",
    "        for idx in range(0, len(self.ups), 2):\n",
    "            x = self.ups[idx](x)\n",
    "            skip_connection = skip_connections[idx//2]\n",
    "\n",
    "            if x.shape != skip_connection.shape:\n",
    "                x = TF.functional.resize(x, size=skip_connection.shape[2:])\n",
    "\n",
    "            concat_skip = torch.cat((skip_connection, x), dim=1)\n",
    "            x = self.ups[idx+1](concat_skip)\n",
    "\n",
    "        return self.final_conv(x)"
   ]
  },
  {
   "cell_type": "markdown",
   "id": "13cb73a3",
   "metadata": {
    "id": "13cb73a3"
   },
   "source": [
    "For a sanity check, let's just make sure that we are getting a prediction that is the shape we would expect.\n",
    "\n",
    "**QUESTION: Given the shape of the torch.randn() and the fact that we're using padding, what do you expect the output shape to be?**\n"
   ]
  },
  {
   "cell_type": "markdown",
   "id": "82c4442a-a027-485c-8ddd-e0e6424c2f3a",
   "metadata": {},
   "source": [
    "The output shape should be 254x254"
   ]
  },
  {
   "cell_type": "code",
   "execution_count": 7,
   "id": "ec710922",
   "metadata": {
    "id": "ec710922"
   },
   "outputs": [],
   "source": [
    "x = torch.randn((3, 1, 50, 50))\n",
    "model = UNET(in_channels=1, out_channels=1)\n",
    "preds = model(x)\n",
    "assert preds.shape == x.shape\n"
   ]
  },
  {
   "cell_type": "markdown",
   "id": "22eff670",
   "metadata": {
    "id": "22eff670"
   },
   "source": [
    "### Dataset Loader\n",
    "Now we'll prepare our data for training and testing using Pytorch's DataLoader which will pass in samples in “minibatches”."
   ]
  },
  {
   "cell_type": "code",
   "execution_count": 8,
   "id": "d2a0d284",
   "metadata": {
    "id": "d2a0d284"
   },
   "outputs": [],
   "source": [
    "from PIL import Image\n",
    "from torch.utils.data import Dataset\n",
    "\n",
    "class CarDataset(Dataset):\n",
    "    def __init__(self, image_dir, mask_dir, transform=None):\n",
    "        self.image_dir = image_dir\n",
    "        self.mask_dir = mask_dir\n",
    "        self.transform = transform\n",
    "        self.images = os.listdir(image_dir)\n",
    "\n",
    "    def __len__(self):\n",
    "        return len(self.images)\n",
    "\n",
    "    def __getitem__(self, index):\n",
    "        img_path = os.path.join(self.image_dir, self.images[index])\n",
    "        mask_path = os.path.join(self.mask_dir, self.images[index].replace(\".jpg\", \"_mask.gif\"))\n",
    "        image = np.array(Image.open(img_path).convert(\"RGB\"))\n",
    "        mask = np.array(Image.open(mask_path).convert(\"L\"), dtype=np.float32)\n",
    "        mask[mask == 255.0] = 1.0\n",
    "\n",
    "        if self.transform is not None:\n",
    "            augmentations = self.transform(image=image, mask=mask)\n",
    "            image = augmentations[\"image\"]\n",
    "            mask = augmentations[\"mask\"]\n",
    "\n",
    "        return image, mask"
   ]
  },
  {
   "cell_type": "markdown",
   "id": "6d61b958",
   "metadata": {
    "id": "6d61b958"
   },
   "source": [
    "### Useful Utility Functions\n",
    "Some of the operations we perform can be functionalized to save on repetition. The two examples below are getting the data loaders and validating the model."
   ]
  },
  {
   "cell_type": "code",
   "execution_count": 9,
   "id": "cd841210",
   "metadata": {
    "id": "cd841210"
   },
   "outputs": [],
   "source": [
    "from torch.utils.data import DataLoader\n",
    "\n",
    "def get_loaders(\n",
    "    train_dir,\n",
    "    train_maskdir,\n",
    "    val_dir,\n",
    "    val_maskdir,\n",
    "    batch_size,\n",
    "    train_transform,\n",
    "    val_transform,\n",
    "):\n",
    "    train_ds = CarDataset(\n",
    "        image_dir=train_dir,\n",
    "        mask_dir=train_maskdir,\n",
    "        transform=train_transform,\n",
    "    )\n",
    "\n",
    "    train_loader = DataLoader(\n",
    "        train_ds,\n",
    "        batch_size=batch_size,\n",
    "        shuffle=True,\n",
    "    )\n",
    "\n",
    "    val_ds = CarDataset(\n",
    "        image_dir=val_dir,\n",
    "        mask_dir=val_maskdir,\n",
    "        transform=val_transform,\n",
    "    )\n",
    "\n",
    "    val_loader = DataLoader(\n",
    "        val_ds,\n",
    "        batch_size=batch_size,\n",
    "        shuffle=False,\n",
    "    )\n",
    "\n",
    "    return train_loader, val_loader\n",
    "\n",
    "def validation_accuracy(loader, model):\n",
    "    num_correct = 0\n",
    "    num_pixels = 0\n",
    "    model.eval()\n",
    "\n",
    "    with torch.no_grad():\n",
    "        for x, y in loader:\n",
    "            x = x\n",
    "            y = y.unsqueeze(1)\n",
    "            preds = torch.sigmoid(model(x))\n",
    "            preds = (preds > 0.5).float()\n",
    "            num_correct += (preds == y).sum()\n",
    "            num_pixels += torch.numel(preds)\n",
    "    print(f\"Got {num_correct}/{num_pixels} pixels with acc {num_correct/num_pixels*100:.2f}\")\n",
    "    model.train()"
   ]
  },
  {
   "cell_type": "markdown",
   "id": "0b21982c",
   "metadata": {
    "id": "0b21982c"
   },
   "source": [
    "### Training Function"
   ]
  },
  {
   "cell_type": "code",
   "execution_count": 10,
   "id": "ef081397",
   "metadata": {
    "id": "ef081397"
   },
   "outputs": [],
   "source": [
    "def train_fn(loader, model, optimizer, loss_fn):\n",
    "\n",
    "    for batch_idx, (data, targets) in enumerate(loader):\n",
    "\n",
    "        # forward\n",
    "        predictions = model(data)\n",
    "        loss = loss_fn(predictions, targets.float().unsqueeze(1))\n",
    "\n",
    "        # backward\n",
    "        optimizer.zero_grad()\n",
    "        loss.backward()\n",
    "        optimizer.step()\n",
    "\n",
    "        print(f\"Iter: {batch_idx+1}/{len(loader.dataset)}, Loss: {loss.item():.04f}\")\n"
   ]
  },
  {
   "cell_type": "markdown",
   "id": "9d9f8871",
   "metadata": {
    "id": "9d9f8871"
   },
   "source": [
    "### Hyperparameters\n",
    "Choose hyperparameters for the model. Experiment with the learning rate and batch size."
   ]
  },
  {
   "cell_type": "code",
   "execution_count": 11,
   "id": "b2f58679",
   "metadata": {
    "id": "b2f58679"
   },
   "outputs": [],
   "source": [
    "# Hyperparameters\n",
    "\n",
    "# TODO: experiment with different values\n",
    "LEARNING_RATE = 1e-4\n",
    "BATCH_SIZE = 1\n",
    "\n",
    "IMAGE_HEIGHT = 160  # 1280 originally\n",
    "IMAGE_WIDTH = 240  # 1918 originally\n",
    "LOAD_MODEL = False\n",
    "\n",
    "cwd = os.getcwd()\n",
    "\n",
    "TRAIN_IMG_DIR = os.path.join(cwd, \"data\", \"train_images\")\n",
    "TRAIN_MASK_DIR = os.path.join(cwd, \"data\", \"train_masks\")\n",
    "VAL_IMG_DIR = os.path.join(cwd, \"data\", \"val_images\")\n",
    "VAL_MASK_DIR = os.path.join(cwd, \"data\", \"val_masks\")"
   ]
  },
  {
   "cell_type": "markdown",
   "id": "dd62d04e",
   "metadata": {
    "id": "dd62d04e"
   },
   "source": [
    "### Data Transformation\n",
    "The images in this dataset are quite large, so we will need to reduce the size in order to make the training time a little more reasonable. While this might sacrifice some accuracy due to compression, we can run more data through the model during training this way."
   ]
  },
  {
   "cell_type": "code",
   "execution_count": 14,
   "id": "41b55b3b-e1e6-41d0-a79d-7a2e1be8bf7d",
   "metadata": {},
   "outputs": [
    {
     "name": "stdout",
     "output_type": "stream",
     "text": [
      "Collecting albumentations\n",
      "  Downloading albumentations-1.1.0-py3-none-any.whl (102 kB)\n",
      "Collecting opencv-python-headless>=4.1.1\n",
      "  Downloading opencv_python_headless-4.5.5.64-cp36-abi3-win_amd64.whl (35.3 MB)\n",
      "Requirement already satisfied: numpy>=1.11.1 in c:\\users\\zesau\\anaconda3\\lib\\site-packages (from albumentations) (1.20.3)\n",
      "Collecting qudida>=0.0.4\n",
      "  Downloading qudida-0.0.4-py3-none-any.whl (3.5 kB)\n",
      "Requirement already satisfied: PyYAML in c:\\users\\zesau\\anaconda3\\lib\\site-packages (from albumentations) (5.4.1)\n",
      "Requirement already satisfied: scipy in c:\\users\\zesau\\anaconda3\\lib\\site-packages (from albumentations) (1.7.1)\n",
      "Requirement already satisfied: scikit-image>=0.16.1 in c:\\users\\zesau\\anaconda3\\lib\\site-packages (from albumentations) (0.18.1)\n",
      "Requirement already satisfied: scikit-learn>=0.19.1 in c:\\users\\zesau\\anaconda3\\lib\\site-packages (from qudida>=0.0.4->albumentations) (0.24.2)\n",
      "Requirement already satisfied: typing-extensions in c:\\users\\zesau\\anaconda3\\lib\\site-packages (from qudida>=0.0.4->albumentations) (3.10.0.0)\n",
      "Requirement already satisfied: matplotlib!=3.0.0,>=2.0.0 in c:\\users\\zesau\\anaconda3\\lib\\site-packages (from scikit-image>=0.16.1->albumentations) (3.4.2)\n",
      "Requirement already satisfied: networkx>=2.0 in c:\\users\\zesau\\anaconda3\\lib\\site-packages (from scikit-image>=0.16.1->albumentations) (2.6.2)\n",
      "Requirement already satisfied: pillow!=7.1.0,!=7.1.1,>=4.3.0 in c:\\users\\zesau\\anaconda3\\lib\\site-packages (from scikit-image>=0.16.1->albumentations) (8.3.1)\n",
      "Requirement already satisfied: imageio>=2.3.0 in c:\\users\\zesau\\anaconda3\\lib\\site-packages (from scikit-image>=0.16.1->albumentations) (2.9.0)\n",
      "Requirement already satisfied: tifffile>=2019.7.26 in c:\\users\\zesau\\anaconda3\\lib\\site-packages (from scikit-image>=0.16.1->albumentations) (2021.7.2)\n",
      "Requirement already satisfied: PyWavelets>=1.1.1 in c:\\users\\zesau\\anaconda3\\lib\\site-packages (from scikit-image>=0.16.1->albumentations) (1.1.1)\n",
      "Requirement already satisfied: python-dateutil>=2.7 in c:\\users\\zesau\\anaconda3\\lib\\site-packages (from matplotlib!=3.0.0,>=2.0.0->scikit-image>=0.16.1->albumentations) (2.8.2)\n",
      "Requirement already satisfied: pyparsing>=2.2.1 in c:\\users\\zesau\\anaconda3\\lib\\site-packages (from matplotlib!=3.0.0,>=2.0.0->scikit-image>=0.16.1->albumentations) (2.4.7)\n",
      "Requirement already satisfied: kiwisolver>=1.0.1 in c:\\users\\zesau\\anaconda3\\lib\\site-packages (from matplotlib!=3.0.0,>=2.0.0->scikit-image>=0.16.1->albumentations) (1.3.1)\n",
      "Requirement already satisfied: cycler>=0.10 in c:\\users\\zesau\\anaconda3\\lib\\site-packages (from matplotlib!=3.0.0,>=2.0.0->scikit-image>=0.16.1->albumentations) (0.10.0)\n",
      "Requirement already satisfied: six in c:\\users\\zesau\\anaconda3\\lib\\site-packages (from cycler>=0.10->matplotlib!=3.0.0,>=2.0.0->scikit-image>=0.16.1->albumentations) (1.15.0)\n",
      "Requirement already satisfied: threadpoolctl>=2.0.0 in c:\\users\\zesau\\anaconda3\\lib\\site-packages (from scikit-learn>=0.19.1->qudida>=0.0.4->albumentations) (2.2.0)\n",
      "Requirement already satisfied: joblib>=0.11 in c:\\users\\zesau\\anaconda3\\lib\\site-packages (from scikit-learn>=0.19.1->qudida>=0.0.4->albumentations) (1.0.1)\n",
      "Installing collected packages: opencv-python-headless, qudida, albumentations\n",
      "Successfully installed albumentations-1.1.0 opencv-python-headless-4.5.5.64 qudida-0.0.4\n"
     ]
    }
   ],
   "source": [
    "!pip install albumentations"
   ]
  },
  {
   "cell_type": "code",
   "execution_count": 16,
   "id": "9uIcQ5Y6xY3U",
   "metadata": {
    "id": "9uIcQ5Y6xY3U"
   },
   "outputs": [],
   "source": [
    "# !pip install albumentations\n",
    "import albumentations as A\n",
    "from albumentations.pytorch import ToTensorV2"
   ]
  },
  {
   "cell_type": "code",
   "execution_count": 66,
   "id": "79951834",
   "metadata": {
    "id": "79951834"
   },
   "outputs": [],
   "source": [
    "\n",
    "\n",
    "train_transform = A.Compose(\n",
    "  [\n",
    "    A.Resize(height=IMAGE_HEIGHT, width=IMAGE_WIDTH),\n",
    "    A.Normalize(\n",
    "      mean=[0.0, 0.0, 0.0],\n",
    "      std=[1.0, 1.0, 1.0],\n",
    "      max_pixel_value=255.0,\n",
    "    ),\n",
    "    ToTensorV2(),\n",
    "  ],\n",
    ")\n",
    "\n",
    "val_transforms = A.Compose(\n",
    "  [\n",
    "    A.Resize(height=IMAGE_HEIGHT, width=IMAGE_WIDTH),\n",
    "    A.Normalize(\n",
    "      mean=[0.0, 0.0, 0.0],\n",
    "      std=[1.0, 1.0, 1.0],\n",
    "      max_pixel_value=255.0,\n",
    "    ),\n",
    "    ToTensorV2(),\n",
    "  ],\n",
    ")\n"
   ]
  },
  {
   "cell_type": "markdown",
   "id": "2e509552",
   "metadata": {
    "id": "2e509552"
   },
   "source": [
    "### Training the Model\n",
    "\n",
    "**Question: Why do we use the BCEWithLogitsLoss function for training the model?**  \n",
    "The documentation is [here](https://pytorch.org/docs/stable/generated/torch.nn.BCEWithLogitsLoss.html).\n",
    "\n",
    "**Question: Given the authors of the original U-Net paper chose SGD, is Adam the best optimizer for this implementation?**  \n",
    "Consider trying [a couple of different ones](https://pytorch.org/docs/stable/optim.html#algorithms) and see what happens."
   ]
  },
  {
   "cell_type": "code",
   "execution_count": 67,
   "id": "bb260bba-0406-44c0-ba33-1b90b1c506fd",
   "metadata": {},
   "outputs": [],
   "source": [
    "import tqdm as tqdm"
   ]
  },
  {
   "cell_type": "code",
   "execution_count": 68,
   "id": "abc97cae",
   "metadata": {
    "colab": {
     "base_uri": "https://localhost:8080/",
     "height": 390
    },
    "id": "abc97cae",
    "outputId": "b9a61152-9b61-40c4-9e4f-d4f1a71d6f1c"
   },
   "outputs": [
    {
     "name": "stdout",
     "output_type": "stream",
     "text": [
      "Iter: 1/224, Loss: 0.6453\n",
      "Iter: 2/224, Loss: 0.5630\n",
      "Iter: 3/224, Loss: 0.4952\n",
      "Iter: 4/224, Loss: 0.5325\n",
      "Iter: 5/224, Loss: 0.4272\n",
      "Iter: 6/224, Loss: 0.3793\n",
      "Iter: 7/224, Loss: 0.3433\n",
      "Iter: 8/224, Loss: 0.3557\n",
      "Iter: 9/224, Loss: 0.3257\n",
      "Iter: 10/224, Loss: 0.3185\n",
      "Iter: 11/224, Loss: 0.3146\n",
      "Iter: 12/224, Loss: 0.3393\n",
      "Iter: 13/224, Loss: 0.4370\n",
      "Iter: 14/224, Loss: 0.4050\n",
      "Iter: 15/224, Loss: 0.2918\n",
      "Iter: 16/224, Loss: 0.2754\n",
      "Iter: 17/224, Loss: 0.3553\n",
      "Iter: 18/224, Loss: 0.3686\n",
      "Iter: 19/224, Loss: 0.3160\n",
      "Iter: 20/224, Loss: 0.2715\n",
      "Iter: 21/224, Loss: 0.3497\n",
      "Iter: 22/224, Loss: 0.3064\n",
      "Iter: 23/224, Loss: 0.2280\n",
      "Iter: 24/224, Loss: 0.3330\n",
      "Iter: 25/224, Loss: 0.2565\n",
      "Iter: 26/224, Loss: 0.3184\n",
      "Iter: 27/224, Loss: 0.2661\n",
      "Iter: 28/224, Loss: 0.2715\n",
      "Iter: 29/224, Loss: 0.2637\n",
      "Iter: 30/224, Loss: 0.2855\n",
      "Iter: 31/224, Loss: 0.2697\n",
      "Iter: 32/224, Loss: 0.2526\n",
      "Iter: 33/224, Loss: 0.2513\n",
      "Iter: 34/224, Loss: 0.2574\n",
      "Iter: 35/224, Loss: 0.2256\n",
      "Iter: 36/224, Loss: 0.2332\n",
      "Iter: 37/224, Loss: 0.2317\n",
      "Iter: 38/224, Loss: 0.2624\n",
      "Iter: 39/224, Loss: 0.2744\n",
      "Iter: 40/224, Loss: 0.2318\n",
      "Iter: 41/224, Loss: 0.2586\n",
      "Iter: 42/224, Loss: 0.2644\n",
      "Iter: 43/224, Loss: 0.2448\n",
      "Iter: 44/224, Loss: 0.2085\n",
      "Iter: 45/224, Loss: 0.2297\n",
      "Iter: 46/224, Loss: 0.2105\n",
      "Iter: 47/224, Loss: 0.2276\n",
      "Iter: 48/224, Loss: 0.2097\n",
      "Iter: 49/224, Loss: 0.2523\n",
      "Iter: 50/224, Loss: 0.2129\n",
      "Iter: 51/224, Loss: 0.2363\n",
      "Iter: 52/224, Loss: 0.2099\n",
      "Iter: 53/224, Loss: 0.2466\n",
      "Iter: 54/224, Loss: 0.2043\n",
      "Iter: 55/224, Loss: 0.2114\n",
      "Iter: 56/224, Loss: 0.2546\n",
      "Iter: 57/224, Loss: 0.2162\n",
      "Iter: 58/224, Loss: 0.2200\n",
      "Iter: 59/224, Loss: 0.1979\n",
      "Iter: 60/224, Loss: 0.2231\n",
      "Iter: 61/224, Loss: 0.2293\n",
      "Iter: 62/224, Loss: 0.2129\n",
      "Iter: 63/224, Loss: 0.2307\n",
      "Iter: 64/224, Loss: 0.1983\n",
      "Iter: 65/224, Loss: 0.2601\n",
      "Iter: 66/224, Loss: 0.2088\n",
      "Iter: 67/224, Loss: 0.2206\n",
      "Iter: 68/224, Loss: 0.2085\n",
      "Iter: 69/224, Loss: 0.1982\n",
      "Iter: 70/224, Loss: 0.1943\n",
      "Iter: 71/224, Loss: 0.2099\n",
      "Iter: 72/224, Loss: 0.2313\n",
      "Iter: 73/224, Loss: 0.2244\n",
      "Iter: 74/224, Loss: 0.2086\n",
      "Iter: 75/224, Loss: 0.2370\n",
      "Iter: 76/224, Loss: 0.2075\n",
      "Iter: 77/224, Loss: 0.2103\n",
      "Iter: 78/224, Loss: 0.2314\n",
      "Iter: 79/224, Loss: 0.1907\n",
      "Iter: 80/224, Loss: 0.2057\n",
      "Iter: 81/224, Loss: 0.1926\n",
      "Iter: 82/224, Loss: 0.2105\n",
      "Iter: 83/224, Loss: 0.1766\n",
      "Iter: 84/224, Loss: 0.1811\n",
      "Iter: 85/224, Loss: 0.1809\n",
      "Iter: 86/224, Loss: 0.2027\n",
      "Iter: 87/224, Loss: 0.1916\n",
      "Iter: 88/224, Loss: 0.1919\n",
      "Iter: 89/224, Loss: 0.1910\n",
      "Iter: 90/224, Loss: 0.1797\n",
      "Iter: 91/224, Loss: 0.1928\n",
      "Iter: 92/224, Loss: 0.1893\n",
      "Iter: 93/224, Loss: 0.2042\n",
      "Iter: 94/224, Loss: 0.2048\n",
      "Iter: 95/224, Loss: 0.1769\n",
      "Iter: 96/224, Loss: 0.1862\n",
      "Iter: 97/224, Loss: 0.2008\n",
      "Iter: 98/224, Loss: 0.1884\n",
      "Iter: 99/224, Loss: 0.2082\n",
      "Iter: 100/224, Loss: 0.1773\n",
      "Iter: 101/224, Loss: 0.2250\n",
      "Iter: 102/224, Loss: 0.1681\n",
      "Iter: 103/224, Loss: 0.2029\n",
      "Iter: 104/224, Loss: 0.1990\n",
      "Iter: 105/224, Loss: 0.1845\n",
      "Iter: 106/224, Loss: 0.1793\n",
      "Iter: 107/224, Loss: 0.1578\n",
      "Iter: 108/224, Loss: 0.1965\n",
      "Iter: 109/224, Loss: 0.1859\n",
      "Iter: 110/224, Loss: 0.1721\n",
      "Iter: 111/224, Loss: 0.1720\n",
      "Iter: 112/224, Loss: 0.1701\n",
      "Iter: 113/224, Loss: 0.1927\n",
      "Iter: 114/224, Loss: 0.1612\n",
      "Iter: 115/224, Loss: 0.1712\n",
      "Iter: 116/224, Loss: 0.1751\n",
      "Iter: 117/224, Loss: 0.1613\n",
      "Iter: 118/224, Loss: 0.1699\n",
      "Iter: 119/224, Loss: 0.1711\n",
      "Iter: 120/224, Loss: 0.2037\n",
      "Iter: 121/224, Loss: 0.1830\n",
      "Iter: 122/224, Loss: 0.1823\n",
      "Iter: 123/224, Loss: 0.1713\n",
      "Iter: 124/224, Loss: 0.1538\n",
      "Iter: 125/224, Loss: 0.1576\n",
      "Iter: 126/224, Loss: 0.1494\n",
      "Iter: 127/224, Loss: 0.2006\n",
      "Iter: 128/224, Loss: 0.1722\n",
      "Iter: 129/224, Loss: 0.2066\n",
      "Iter: 130/224, Loss: 0.1540\n",
      "Iter: 131/224, Loss: 0.1526\n",
      "Iter: 132/224, Loss: 0.1555\n",
      "Iter: 133/224, Loss: 0.1598\n",
      "Iter: 134/224, Loss: 0.1738\n",
      "Iter: 135/224, Loss: 0.1537\n",
      "Iter: 136/224, Loss: 0.1618\n",
      "Iter: 137/224, Loss: 0.1648\n",
      "Iter: 138/224, Loss: 0.1635\n",
      "Iter: 139/224, Loss: 0.1596\n",
      "Iter: 140/224, Loss: 0.1677\n",
      "Iter: 141/224, Loss: 0.1640\n",
      "Iter: 142/224, Loss: 0.1655\n",
      "Iter: 143/224, Loss: 0.1509\n",
      "Iter: 144/224, Loss: 0.1587\n",
      "Iter: 145/224, Loss: 0.1761\n",
      "Iter: 146/224, Loss: 0.1593\n",
      "Iter: 147/224, Loss: 0.1721\n",
      "Iter: 148/224, Loss: 0.1909\n",
      "Iter: 149/224, Loss: 0.1466\n",
      "Iter: 150/224, Loss: 0.1503\n",
      "Iter: 151/224, Loss: 0.1675\n",
      "Iter: 152/224, Loss: 0.1554\n",
      "Iter: 153/224, Loss: 0.1793\n",
      "Iter: 154/224, Loss: 0.1499\n",
      "Iter: 155/224, Loss: 0.1584\n",
      "Iter: 156/224, Loss: 0.1566\n",
      "Iter: 157/224, Loss: 0.1484\n",
      "Iter: 158/224, Loss: 0.1625\n",
      "Iter: 159/224, Loss: 0.1538\n",
      "Iter: 160/224, Loss: 0.1810\n",
      "Iter: 161/224, Loss: 0.1741\n",
      "Iter: 162/224, Loss: 0.1584\n",
      "Iter: 163/224, Loss: 0.1518\n",
      "Iter: 164/224, Loss: 0.1537\n",
      "Iter: 165/224, Loss: 0.1577\n",
      "Iter: 166/224, Loss: 0.1514\n",
      "Iter: 167/224, Loss: 0.1620\n",
      "Iter: 168/224, Loss: 0.1510\n",
      "Iter: 169/224, Loss: 0.1526\n",
      "Iter: 170/224, Loss: 0.1484\n",
      "Iter: 171/224, Loss: 0.1389\n",
      "Iter: 172/224, Loss: 0.1461\n",
      "Iter: 173/224, Loss: 0.1403\n",
      "Iter: 174/224, Loss: 0.1439\n",
      "Iter: 175/224, Loss: 0.1429\n",
      "Iter: 176/224, Loss: 0.1479\n",
      "Iter: 177/224, Loss: 0.1468\n",
      "Iter: 178/224, Loss: 0.1513\n",
      "Iter: 179/224, Loss: 0.1430\n",
      "Iter: 180/224, Loss: 0.1460\n",
      "Iter: 181/224, Loss: 0.1493\n",
      "Iter: 182/224, Loss: 0.1593\n",
      "Iter: 183/224, Loss: 0.1438\n",
      "Iter: 184/224, Loss: 0.1441\n",
      "Iter: 185/224, Loss: 0.1838\n",
      "Iter: 186/224, Loss: 0.1579\n",
      "Iter: 187/224, Loss: 0.1694\n",
      "Iter: 188/224, Loss: 0.1513\n",
      "Iter: 189/224, Loss: 0.1520\n",
      "Iter: 190/224, Loss: 0.1444\n",
      "Iter: 191/224, Loss: 0.1535\n",
      "Iter: 192/224, Loss: 0.1640\n",
      "Iter: 193/224, Loss: 0.1465\n",
      "Iter: 194/224, Loss: 0.1482\n",
      "Iter: 195/224, Loss: 0.1670\n",
      "Iter: 196/224, Loss: 0.1394\n",
      "Iter: 197/224, Loss: 0.1628\n",
      "Iter: 198/224, Loss: 0.1771\n",
      "Iter: 199/224, Loss: 0.1448\n",
      "Iter: 200/224, Loss: 0.1616\n",
      "Iter: 201/224, Loss: 0.1488\n",
      "Iter: 202/224, Loss: 0.1391\n",
      "Iter: 203/224, Loss: 0.1557\n",
      "Iter: 204/224, Loss: 0.1815\n",
      "Iter: 205/224, Loss: 0.1400\n",
      "Iter: 206/224, Loss: 0.1561\n",
      "Iter: 207/224, Loss: 0.1354\n",
      "Iter: 208/224, Loss: 0.1579\n",
      "Iter: 209/224, Loss: 0.1538\n",
      "Iter: 210/224, Loss: 0.1415\n",
      "Iter: 211/224, Loss: 0.1400\n",
      "Iter: 212/224, Loss: 0.1307\n",
      "Iter: 213/224, Loss: 0.1339\n",
      "Iter: 214/224, Loss: 0.1318\n",
      "Iter: 215/224, Loss: 0.1304\n",
      "Iter: 216/224, Loss: 0.1235\n",
      "Iter: 217/224, Loss: 0.1641\n",
      "Iter: 218/224, Loss: 0.1496\n",
      "Iter: 219/224, Loss: 0.1652\n",
      "Iter: 220/224, Loss: 0.1439\n",
      "Iter: 221/224, Loss: 0.1318\n",
      "Iter: 222/224, Loss: 0.1377\n",
      "Iter: 223/224, Loss: 0.1375\n",
      "Iter: 224/224, Loss: 0.1241\n"
     ]
    },
    {
     "ename": "TypeError",
     "evalue": "'module' object is not callable",
     "output_type": "error",
     "traceback": [
      "\u001b[1;31m---------------------------------------------------------------------------\u001b[0m",
      "\u001b[1;31mTypeError\u001b[0m                                 Traceback (most recent call last)",
      "\u001b[1;32m~\\AppData\\Local\\Temp/ipykernel_11808/1165276971.py\u001b[0m in \u001b[0;36m<module>\u001b[1;34m\u001b[0m\n\u001b[0;32m     16\u001b[0m )\n\u001b[0;32m     17\u001b[0m \u001b[1;33m\u001b[0m\u001b[0m\n\u001b[1;32m---> 18\u001b[1;33m \u001b[0mtqdm\u001b[0m\u001b[1;33m(\u001b[0m\u001b[0mtrain_fn\u001b[0m\u001b[1;33m(\u001b[0m\u001b[0mtrain_loader\u001b[0m\u001b[1;33m,\u001b[0m \u001b[0mmodel\u001b[0m\u001b[1;33m,\u001b[0m \u001b[0moptimizer\u001b[0m\u001b[1;33m,\u001b[0m \u001b[0mloss_fn\u001b[0m\u001b[1;33m)\u001b[0m\u001b[1;33m)\u001b[0m\u001b[1;33m\u001b[0m\u001b[1;33m\u001b[0m\u001b[0m\n\u001b[0m",
      "\u001b[1;31mTypeError\u001b[0m: 'module' object is not callable"
     ]
    }
   ],
   "source": [
    "model = UNET(in_channels=3, out_channels=1)\n",
    "\n",
    "loss_fn = nn.BCEWithLogitsLoss()\n",
    "\n",
    "import torch.optim as optim\n",
    "optimizer = optim.Adam(model.parameters(), lr=LEARNING_RATE)\n",
    "\n",
    "train_loader, val_loader = get_loaders(\n",
    "  TRAIN_IMG_DIR,\n",
    "  TRAIN_MASK_DIR,\n",
    "  VAL_IMG_DIR,\n",
    "  VAL_MASK_DIR,\n",
    "  BATCH_SIZE,\n",
    "  train_transform,\n",
    "  val_transforms,\n",
    ")\n",
    "\n",
    "tqdm(train_fn(train_loader, model, optimizer, loss_fn))\n"
   ]
  },
  {
   "cell_type": "markdown",
   "id": "0da1b77f",
   "metadata": {
    "id": "0da1b77f"
   },
   "source": [
    "### Validating the Model"
   ]
  },
  {
   "cell_type": "code",
   "execution_count": 69,
   "id": "05ed2320",
   "metadata": {
    "id": "05ed2320"
   },
   "outputs": [
    {
     "name": "stdout",
     "output_type": "stream",
     "text": [
      "Got 2290955/2457600 pixels with acc 93.22\n"
     ]
    }
   ],
   "source": [
    "validation_accuracy(val_loader, model)"
   ]
  },
  {
   "cell_type": "markdown",
   "id": "175e9c53",
   "metadata": {
    "id": "175e9c53"
   },
   "source": [
    "Let's visualise a couple randomly selected validation predictions and see how well the model did."
   ]
  },
  {
   "cell_type": "code",
   "execution_count": 70,
   "id": "c75da6db",
   "metadata": {
    "id": "c75da6db"
   },
   "outputs": [
    {
     "data": {
      "image/png": "[encoded data removed]",
      "text/plain": [
       "<Figure size 432x288 with 1 Axes>"
      ]
     },
     "metadata": {
      "needs_background": "light"
     },
     "output_type": "display_data"
    },
    {
     "data": {
      "image/png": "[encoded data removed]",
      "text/plain": [
       "<Figure size 432x288 with 1 Axes>"
      ]
     },
     "metadata": {
      "needs_background": "light"
     },
     "output_type": "display_data"
    },
    {
     "data": {
      "image/png": "[encoded data removed]",
      "text/plain": [
       "<Figure size 432x288 with 1 Axes>"
      ]
     },
     "metadata": {
      "needs_background": "light"
     },
     "output_type": "display_data"
    }
   ],
   "source": [
    "# TODO: how many predictions do you want to visualize?\n",
    "num_predictions = 3\n",
    "\n",
    "for i in range(num_predictions):\n",
    "  # select a random image\n",
    "  idx = np.random.randint(0, len(val_loader.dataset))\n",
    "  # Get a prediction with that image\n",
    "  pred = torch.sigmoid(model(val_loader.dataset[idx][0].unsqueeze(0)))\n",
    "  pred = (pred > 0.5).float()\n",
    "  # display the prediction overlaid with the target mask\n",
    "  plt.imshow(pred.squeeze(), cmap=\"Greys\", alpha=0.6)\n",
    "  plt.imshow(TF.ToPILImage()(val_loader.dataset[idx][1]).convert('L'), alpha=0.5)\n",
    "  plt.show()\n",
    "  "
   ]
  },
  {
   "cell_type": "markdown",
   "id": "db3ff675",
   "metadata": {
    "id": "db3ff675"
   },
   "source": [
    "**Question: What you do notice about the predicted mask that is less than optimal?**  \n",
    "\n",
    "### Data Augmentation\n",
    "Let's train the model on some new data (in a sense). We can augment the data that we feed to the model by performing horizontal flips on the images of the cars, or even changing the distribution of the normalized values. "
   ]
  },
  {
   "cell_type": "code",
   "execution_count": 71,
   "id": "a3507c2a",
   "metadata": {
    "id": "a3507c2a"
   },
   "outputs": [],
   "source": [
    "train_transform = A.Compose(\n",
    "  [\n",
    "    A.Resize(height=IMAGE_HEIGHT, width=IMAGE_WIDTH),\n",
    "    A.HorizontalFlip(p=0.5),\n",
    "    A.Normalize(\n",
    "      mean=[0.0, 0.0, 0.0],\n",
    "      std=[2.0, 2.0, 2.0],\n",
    "      max_pixel_value=255.0,\n",
    "    ),\n",
    "    ToTensorV2(),\n",
    "  ],\n",
    ")\n",
    "\n",
    "val_transforms = A.Compose(\n",
    "  [\n",
    "    A.Resize(height=IMAGE_HEIGHT, width=IMAGE_WIDTH),\n",
    "    A.HorizontalFlip(p=0.5),\n",
    "    A.Normalize(\n",
    "      mean=[0.0, 0.0, 0.0],\n",
    "      std=[2.0, 2.0, 2.0],\n",
    "      max_pixel_value=255.0,\n",
    "    ),\n",
    "    ToTensorV2(),\n",
    "  ],\n",
    ")\n",
    "\n",
    "train_loader, val_loader = get_loaders(\n",
    "  TRAIN_IMG_DIR,\n",
    "  TRAIN_MASK_DIR,\n",
    "  VAL_IMG_DIR,\n",
    "  VAL_MASK_DIR,\n",
    "  BATCH_SIZE,\n",
    "  train_transform,\n",
    "  val_transforms,\n",
    ")\n"
   ]
  },
  {
   "cell_type": "markdown",
   "id": "9a22bbb7",
   "metadata": {
    "id": "9a22bbb7"
   },
   "source": [
    "Now continue training the model:"
   ]
  },
  {
   "cell_type": "code",
   "execution_count": 72,
   "id": "fce926d0",
   "metadata": {
    "id": "fce926d0"
   },
   "outputs": [
    {
     "name": "stdout",
     "output_type": "stream",
     "text": [
      "Iter: 1/224, Loss: 0.1333\n",
      "Iter: 2/224, Loss: 0.1578\n",
      "Iter: 3/224, Loss: 0.1404\n",
      "Iter: 4/224, Loss: 0.1455\n",
      "Iter: 5/224, Loss: 0.1353\n",
      "Iter: 6/224, Loss: 0.1393\n",
      "Iter: 7/224, Loss: 0.1411\n",
      "Iter: 8/224, Loss: 0.1286\n",
      "Iter: 9/224, Loss: 0.1551\n",
      "Iter: 10/224, Loss: 0.1456\n",
      "Iter: 11/224, Loss: 0.1529\n",
      "Iter: 12/224, Loss: 0.1283\n",
      "Iter: 13/224, Loss: 0.1381\n",
      "Iter: 14/224, Loss: 0.1256\n",
      "Iter: 15/224, Loss: 0.1283\n",
      "Iter: 16/224, Loss: 0.1368\n",
      "Iter: 17/224, Loss: 0.1357\n",
      "Iter: 18/224, Loss: 0.1210\n",
      "Iter: 19/224, Loss: 0.1215\n",
      "Iter: 20/224, Loss: 0.1190\n",
      "Iter: 21/224, Loss: 0.1257\n",
      "Iter: 22/224, Loss: 0.1426\n",
      "Iter: 23/224, Loss: 0.1227\n",
      "Iter: 24/224, Loss: 0.1235\n",
      "Iter: 25/224, Loss: 0.1235\n",
      "Iter: 26/224, Loss: 0.1257\n",
      "Iter: 27/224, Loss: 0.1278\n",
      "Iter: 28/224, Loss: 0.1248\n",
      "Iter: 29/224, Loss: 0.1318\n",
      "Iter: 30/224, Loss: 0.1299\n",
      "Iter: 31/224, Loss: 0.1459\n",
      "Iter: 32/224, Loss: 0.1408\n",
      "Iter: 33/224, Loss: 0.1434\n",
      "Iter: 34/224, Loss: 0.1226\n",
      "Iter: 35/224, Loss: 0.1272\n",
      "Iter: 36/224, Loss: 0.1442\n",
      "Iter: 37/224, Loss: 0.1293\n",
      "Iter: 38/224, Loss: 0.1285\n",
      "Iter: 39/224, Loss: 0.1430\n",
      "Iter: 40/224, Loss: 0.1282\n",
      "Iter: 41/224, Loss: 0.1194\n",
      "Iter: 42/224, Loss: 0.1319\n",
      "Iter: 43/224, Loss: 0.1331\n",
      "Iter: 44/224, Loss: 0.1377\n",
      "Iter: 45/224, Loss: 0.1263\n",
      "Iter: 46/224, Loss: 0.1482\n",
      "Iter: 47/224, Loss: 0.1222\n",
      "Iter: 48/224, Loss: 0.1261\n",
      "Iter: 49/224, Loss: 0.1118\n",
      "Iter: 50/224, Loss: 0.1540\n",
      "Iter: 51/224, Loss: 0.1210\n",
      "Iter: 52/224, Loss: 0.1319\n",
      "Iter: 53/224, Loss: 0.1323\n",
      "Iter: 54/224, Loss: 0.1362\n",
      "Iter: 55/224, Loss: 0.1592\n",
      "Iter: 56/224, Loss: 0.1378\n",
      "Iter: 57/224, Loss: 0.1201\n",
      "Iter: 58/224, Loss: 0.1514\n",
      "Iter: 59/224, Loss: 0.1520\n",
      "Iter: 60/224, Loss: 0.1494\n",
      "Iter: 61/224, Loss: 0.1318\n",
      "Iter: 62/224, Loss: 0.1360\n",
      "Iter: 63/224, Loss: 0.1188\n",
      "Iter: 64/224, Loss: 0.1178\n",
      "Iter: 65/224, Loss: 0.1249\n",
      "Iter: 66/224, Loss: 0.1359\n",
      "Iter: 67/224, Loss: 0.1200\n",
      "Iter: 68/224, Loss: 0.1155\n",
      "Iter: 69/224, Loss: 0.1165\n",
      "Iter: 70/224, Loss: 0.1224\n",
      "Iter: 71/224, Loss: 0.1259\n",
      "Iter: 72/224, Loss: 0.1191\n",
      "Iter: 73/224, Loss: 0.1400\n",
      "Iter: 74/224, Loss: 0.1346\n",
      "Iter: 75/224, Loss: 0.1148\n",
      "Iter: 76/224, Loss: 0.1228\n",
      "Iter: 77/224, Loss: 0.1188\n",
      "Iter: 78/224, Loss: 0.1179\n",
      "Iter: 79/224, Loss: 0.1227\n",
      "Iter: 80/224, Loss: 0.1285\n",
      "Iter: 81/224, Loss: 0.1157\n",
      "Iter: 82/224, Loss: 0.1069\n",
      "Iter: 83/224, Loss: 0.1245\n",
      "Iter: 84/224, Loss: 0.1140\n",
      "Iter: 85/224, Loss: 0.1085\n",
      "Iter: 86/224, Loss: 0.1065\n",
      "Iter: 87/224, Loss: 0.1109\n",
      "Iter: 88/224, Loss: 0.1075\n",
      "Iter: 89/224, Loss: 0.1179\n",
      "Iter: 90/224, Loss: 0.1049\n",
      "Iter: 91/224, Loss: 0.1137\n",
      "Iter: 92/224, Loss: 0.1176\n",
      "Iter: 93/224, Loss: 0.1216\n",
      "Iter: 94/224, Loss: 0.1473\n",
      "Iter: 95/224, Loss: 0.1129\n",
      "Iter: 96/224, Loss: 0.1289\n",
      "Iter: 97/224, Loss: 0.1186\n",
      "Iter: 98/224, Loss: 0.1046\n",
      "Iter: 99/224, Loss: 0.1046\n",
      "Iter: 100/224, Loss: 0.1120\n",
      "Iter: 101/224, Loss: 0.1005\n",
      "Iter: 102/224, Loss: 0.1247\n",
      "Iter: 103/224, Loss: 0.1063\n",
      "Iter: 104/224, Loss: 0.1023\n",
      "Iter: 105/224, Loss: 0.1011\n",
      "Iter: 106/224, Loss: 0.1163\n",
      "Iter: 107/224, Loss: 0.1096\n",
      "Iter: 108/224, Loss: 0.0997\n",
      "Iter: 109/224, Loss: 0.1298\n",
      "Iter: 110/224, Loss: 0.1299\n",
      "Iter: 111/224, Loss: 0.1045\n",
      "Iter: 112/224, Loss: 0.1373\n",
      "Iter: 113/224, Loss: 0.1041\n",
      "Iter: 114/224, Loss: 0.1011\n",
      "Iter: 115/224, Loss: 0.1055\n",
      "Iter: 116/224, Loss: 0.1086\n",
      "Iter: 117/224, Loss: 0.1057\n",
      "Iter: 118/224, Loss: 0.1113\n",
      "Iter: 119/224, Loss: 0.1056\n",
      "Iter: 120/224, Loss: 0.1035\n",
      "Iter: 121/224, Loss: 0.1334\n",
      "Iter: 122/224, Loss: 0.1076\n",
      "Iter: 123/224, Loss: 0.1015\n",
      "Iter: 124/224, Loss: 0.1169\n",
      "Iter: 125/224, Loss: 0.1042\n",
      "Iter: 126/224, Loss: 0.1134\n",
      "Iter: 127/224, Loss: 0.1028\n",
      "Iter: 128/224, Loss: 0.1349\n",
      "Iter: 129/224, Loss: 0.1012\n",
      "Iter: 130/224, Loss: 0.1046\n",
      "Iter: 131/224, Loss: 0.1122\n",
      "Iter: 132/224, Loss: 0.1035\n",
      "Iter: 133/224, Loss: 0.1247\n",
      "Iter: 134/224, Loss: 0.1005\n",
      "Iter: 135/224, Loss: 0.0974\n",
      "Iter: 136/224, Loss: 0.0979\n",
      "Iter: 137/224, Loss: 0.1147\n",
      "Iter: 138/224, Loss: 0.0927\n",
      "Iter: 139/224, Loss: 0.1145\n",
      "Iter: 140/224, Loss: 0.1082\n",
      "Iter: 141/224, Loss: 0.1061\n",
      "Iter: 142/224, Loss: 0.1030\n",
      "Iter: 143/224, Loss: 0.1067\n",
      "Iter: 144/224, Loss: 0.1036\n",
      "Iter: 145/224, Loss: 0.1232\n",
      "Iter: 146/224, Loss: 0.1149\n",
      "Iter: 147/224, Loss: 0.1184\n",
      "Iter: 148/224, Loss: 0.1113\n",
      "Iter: 149/224, Loss: 0.1035\n",
      "Iter: 150/224, Loss: 0.0943\n",
      "Iter: 151/224, Loss: 0.0902\n",
      "Iter: 152/224, Loss: 0.1051\n",
      "Iter: 153/224, Loss: 0.1047\n",
      "Iter: 154/224, Loss: 0.1035\n",
      "Iter: 155/224, Loss: 0.0907\n",
      "Iter: 156/224, Loss: 0.1085\n",
      "Iter: 157/224, Loss: 0.0893\n",
      "Iter: 158/224, Loss: 0.0986\n",
      "Iter: 159/224, Loss: 0.1044\n",
      "Iter: 160/224, Loss: 0.0947\n",
      "Iter: 161/224, Loss: 0.0918\n",
      "Iter: 162/224, Loss: 0.1051\n",
      "Iter: 163/224, Loss: 0.1061\n",
      "Iter: 164/224, Loss: 0.0983\n",
      "Iter: 165/224, Loss: 0.0900\n",
      "Iter: 166/224, Loss: 0.1024\n",
      "Iter: 167/224, Loss: 0.0939\n",
      "Iter: 168/224, Loss: 0.0915\n",
      "Iter: 169/224, Loss: 0.1061\n",
      "Iter: 170/224, Loss: 0.0980\n",
      "Iter: 171/224, Loss: 0.0861\n",
      "Iter: 172/224, Loss: 0.0912\n",
      "Iter: 173/224, Loss: 0.0894\n",
      "Iter: 174/224, Loss: 0.0935\n",
      "Iter: 175/224, Loss: 0.0991\n",
      "Iter: 176/224, Loss: 0.1040\n",
      "Iter: 177/224, Loss: 0.1059\n",
      "Iter: 178/224, Loss: 0.1150\n",
      "Iter: 179/224, Loss: 0.1123\n",
      "Iter: 180/224, Loss: 0.0973\n",
      "Iter: 181/224, Loss: 0.0930\n",
      "Iter: 182/224, Loss: 0.0984\n",
      "Iter: 183/224, Loss: 0.0979\n",
      "Iter: 184/224, Loss: 0.1081\n",
      "Iter: 185/224, Loss: 0.0988\n",
      "Iter: 186/224, Loss: 0.0875\n",
      "Iter: 187/224, Loss: 0.1016\n",
      "Iter: 188/224, Loss: 0.0904\n",
      "Iter: 189/224, Loss: 0.0924\n",
      "Iter: 190/224, Loss: 0.0886\n",
      "Iter: 191/224, Loss: 0.0911\n",
      "Iter: 192/224, Loss: 0.0968\n",
      "Iter: 193/224, Loss: 0.1286\n",
      "Iter: 194/224, Loss: 0.0977\n",
      "Iter: 195/224, Loss: 0.0997\n",
      "Iter: 196/224, Loss: 0.1015\n",
      "Iter: 197/224, Loss: 0.0964\n",
      "Iter: 198/224, Loss: 0.0918\n",
      "Iter: 199/224, Loss: 0.0930\n",
      "Iter: 200/224, Loss: 0.0909\n",
      "Iter: 201/224, Loss: 0.0849\n",
      "Iter: 202/224, Loss: 0.0885\n",
      "Iter: 203/224, Loss: 0.0954\n",
      "Iter: 204/224, Loss: 0.0879\n",
      "Iter: 205/224, Loss: 0.0795\n",
      "Iter: 206/224, Loss: 0.1062\n",
      "Iter: 207/224, Loss: 0.1061\n",
      "Iter: 208/224, Loss: 0.0868\n",
      "Iter: 209/224, Loss: 0.1078\n",
      "Iter: 210/224, Loss: 0.1246\n",
      "Iter: 211/224, Loss: 0.0838\n",
      "Iter: 212/224, Loss: 0.0961\n",
      "Iter: 213/224, Loss: 0.1001\n",
      "Iter: 214/224, Loss: 0.0840\n",
      "Iter: 215/224, Loss: 0.0871\n",
      "Iter: 216/224, Loss: 0.0813\n",
      "Iter: 217/224, Loss: 0.0840\n",
      "Iter: 218/224, Loss: 0.0875\n",
      "Iter: 219/224, Loss: 0.0808\n",
      "Iter: 220/224, Loss: 0.0927\n",
      "Iter: 221/224, Loss: 0.1097\n",
      "Iter: 222/224, Loss: 0.0891\n",
      "Iter: 223/224, Loss: 0.0874\n",
      "Iter: 224/224, Loss: 0.1061\n"
     ]
    }
   ],
   "source": [
    "train_fn(train_loader, model, optimizer, loss_fn)"
   ]
  },
  {
   "cell_type": "markdown",
   "id": "c1f0e88a",
   "metadata": {
    "id": "c1f0e88a"
   },
   "source": [
    "Take a look at some of the model predictions.  \n",
    "  \n",
    "**Question: How has the model performance changed and why?**  "
   ]
  },
  {
   "cell_type": "markdown",
   "id": "2ec87d9b-450a-46ce-9d61-b9a5b8700e36",
   "metadata": {},
   "source": [
    "The model performance appears to have a smaller loss function with time, but takes more iterations to get there"
   ]
  },
  {
   "cell_type": "code",
   "execution_count": 73,
   "id": "207d5524",
   "metadata": {
    "id": "207d5524"
   },
   "outputs": [
    {
     "data": {
      "image/png": "[encoded data removed]",
      "text/plain": [
       "<Figure size 432x288 with 1 Axes>"
      ]
     },
     "metadata": {
      "needs_background": "light"
     },
     "output_type": "display_data"
    },
    {
     "data": {
      "image/png": "[encoded data removed]",
      "text/plain": [
       "<Figure size 432x288 with 1 Axes>"
      ]
     },
     "metadata": {
      "needs_background": "light"
     },
     "output_type": "display_data"
    },
    {
     "data": {
      "image/png": "[encoded data removed]",
      "text/plain": [
       "<Figure size 432x288 with 1 Axes>"
      ]
     },
     "metadata": {
      "needs_background": "light"
     },
     "output_type": "display_data"
    }
   ],
   "source": [
    "# TODO: how many predictions do you want to visualize?\n",
    "num_predictions = 3\n",
    "\n",
    "for i in range(num_predictions):\n",
    "  # select a random image\n",
    "  idx = np.random.randint(0, len(val_loader.dataset))\n",
    "  # Get a prediction with that image\n",
    "  pred = torch.sigmoid(model(val_loader.dataset[idx][0].unsqueeze(0)))\n",
    "  pred = (pred > 0.5).float()\n",
    "  # display the prediction overlaid with the target mask\n",
    "  plt.imshow(pred.squeeze(), cmap=\"Greys\", alpha=0.6)\n",
    "  plt.imshow(TF.ToPILImage()(val_loader.dataset[idx][1]).convert('L'), alpha=0.5)\n",
    "  plt.show()\n"
   ]
  },
  {
   "cell_type": "markdown",
   "id": "22cefe75",
   "metadata": {
    "id": "22cefe75"
   },
   "source": [
    "**As an optional final task, try training a new model on variations of augmented data and see how the performance changes with different augmentations.** "
   ]
  }
 ],
 "metadata": {
  "colab": {
   "name": "U-Net.ipynb",
   "provenance": []
  },
  "kernelspec": {
   "display_name": "Python 3 (ipykernel)",
   "language": "python",
   "name": "python3"
  },
  "language_info": {
   "codemirror_mode": {
    "name": "ipython",
    "version": 3
   },
   "file_extension": ".py",
   "mimetype": "text/x-python",
   "name": "python",
   "nbconvert_exporter": "python",
   "pygments_lexer": "ipython3",
   "version": "3.8.8"
  }
 },
 "nbformat": 4,
 "nbformat_minor": 5
}
